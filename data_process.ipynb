{
 "cells": [
  {
   "cell_type": "code",
   "execution_count": 1,
   "metadata": {},
   "outputs": [],
   "source": [
    "import pandas as pd\n",
    "import os\n",
    "from pathlib import Path"
   ]
  },
  {
   "cell_type": "code",
   "execution_count": 2,
   "metadata": {},
   "outputs": [
    {
     "data": {
      "text/html": [
       "<div>\n",
       "<style scoped>\n",
       "    .dataframe tbody tr th:only-of-type {\n",
       "        vertical-align: middle;\n",
       "    }\n",
       "\n",
       "    .dataframe tbody tr th {\n",
       "        vertical-align: top;\n",
       "    }\n",
       "\n",
       "    .dataframe thead th {\n",
       "        text-align: right;\n",
       "    }\n",
       "</style>\n",
       "<table border=\"1\" class=\"dataframe\">\n",
       "  <thead>\n",
       "    <tr style=\"text-align: right;\">\n",
       "      <th></th>\n",
       "      <th>file_name</th>\n",
       "      <th>file_path</th>\n",
       "      <th>class_name</th>\n",
       "      <th>class_index</th>\n",
       "    </tr>\n",
       "  </thead>\n",
       "  <tbody>\n",
       "  </tbody>\n",
       "</table>\n",
       "</div>"
      ],
      "text/plain": [
       "Empty DataFrame\n",
       "Columns: [file_name, file_path, class_name, class_index]\n",
       "Index: []"
      ]
     },
     "execution_count": 2,
     "metadata": {},
     "output_type": "execute_result"
    }
   ],
   "source": [
    "os.listdir(\"data/train_set/tree\")\n",
    "data_df = pd.DataFrame(columns=[\"file_name\", \"file_path\", \"class_name\", \"class_index\"])\n",
    "data_df"
   ]
  },
  {
   "cell_type": "code",
   "execution_count": 8,
   "metadata": {},
   "outputs": [
    {
     "name": "stdout",
     "output_type": "stream",
     "text": [
      "data/train_set/tree\n",
      "data/train_set/sun\n",
      "data/train_set/fish\n",
      "data/train_set/bird\n",
      "data/train_set/flower\n"
     ]
    }
   ],
   "source": [
    "data_folder = Path(\"./data/train_set/\")\n",
    "\n",
    "for idx_i, class_dir in enumerate(data_folder.glob(\"*\")):\n",
    "    print(class_dir)\n",
    "    for idx_j, data_file in enumerate(class_dir.glob(\"*\")):\n",
    "        data_df = pd.concat([pd.DataFrame([[data_file.name, data_file, class_dir, idx_i]], columns=data_df.columns), data_df], ignore_index=True)"
   ]
  },
  {
   "cell_type": "code",
   "execution_count": 7,
   "metadata": {},
   "outputs": [
    {
     "data": {
      "text/html": [
       "<div>\n",
       "<style scoped>\n",
       "    .dataframe tbody tr th:only-of-type {\n",
       "        vertical-align: middle;\n",
       "    }\n",
       "\n",
       "    .dataframe tbody tr th {\n",
       "        vertical-align: top;\n",
       "    }\n",
       "\n",
       "    .dataframe thead th {\n",
       "        text-align: right;\n",
       "    }\n",
       "</style>\n",
       "<table border=\"1\" class=\"dataframe\">\n",
       "  <thead>\n",
       "    <tr style=\"text-align: right;\">\n",
       "      <th></th>\n",
       "      <th>file_name</th>\n",
       "      <th>file_path</th>\n",
       "      <th>class_name</th>\n",
       "      <th>class_index</th>\n",
       "    </tr>\n",
       "  </thead>\n",
       "  <tbody>\n",
       "    <tr>\n",
       "      <th>0</th>\n",
       "      <td>flower1150</td>\n",
       "      <td>data/train_set/flower/flower1150.png</td>\n",
       "      <td>data/train_set/flower</td>\n",
       "      <td>4</td>\n",
       "    </tr>\n",
       "    <tr>\n",
       "      <th>1</th>\n",
       "      <td>flower1141</td>\n",
       "      <td>data/train_set/flower/flower1141.png</td>\n",
       "      <td>data/train_set/flower</td>\n",
       "      <td>4</td>\n",
       "    </tr>\n",
       "    <tr>\n",
       "      <th>2</th>\n",
       "      <td>flower215</td>\n",
       "      <td>data/train_set/flower/flower215.png</td>\n",
       "      <td>data/train_set/flower</td>\n",
       "      <td>4</td>\n",
       "    </tr>\n",
       "    <tr>\n",
       "      <th>3</th>\n",
       "      <td>flower71</td>\n",
       "      <td>data/train_set/flower/flower71.png</td>\n",
       "      <td>data/train_set/flower</td>\n",
       "      <td>4</td>\n",
       "    </tr>\n",
       "    <tr>\n",
       "      <th>4</th>\n",
       "      <td>flower901</td>\n",
       "      <td>data/train_set/flower/flower901.png</td>\n",
       "      <td>data/train_set/flower</td>\n",
       "      <td>4</td>\n",
       "    </tr>\n",
       "    <tr>\n",
       "      <th>...</th>\n",
       "      <td>...</td>\n",
       "      <td>...</td>\n",
       "      <td>...</td>\n",
       "      <td>...</td>\n",
       "    </tr>\n",
       "    <tr>\n",
       "      <th>11995</th>\n",
       "      <td>tree2</td>\n",
       "      <td>data/train_set/tree/tree2.png</td>\n",
       "      <td>data/train_set/tree</td>\n",
       "      <td>0</td>\n",
       "    </tr>\n",
       "    <tr>\n",
       "      <th>11996</th>\n",
       "      <td>tree1966</td>\n",
       "      <td>data/train_set/tree/tree1966.png</td>\n",
       "      <td>data/train_set/tree</td>\n",
       "      <td>0</td>\n",
       "    </tr>\n",
       "    <tr>\n",
       "      <th>11997</th>\n",
       "      <td>tree600</td>\n",
       "      <td>data/train_set/tree/tree600.png</td>\n",
       "      <td>data/train_set/tree</td>\n",
       "      <td>0</td>\n",
       "    </tr>\n",
       "    <tr>\n",
       "      <th>11998</th>\n",
       "      <td>tree1935</td>\n",
       "      <td>data/train_set/tree/tree1935.png</td>\n",
       "      <td>data/train_set/tree</td>\n",
       "      <td>0</td>\n",
       "    </tr>\n",
       "    <tr>\n",
       "      <th>11999</th>\n",
       "      <td>tree1245</td>\n",
       "      <td>data/train_set/tree/tree1245.png</td>\n",
       "      <td>data/train_set/tree</td>\n",
       "      <td>0</td>\n",
       "    </tr>\n",
       "  </tbody>\n",
       "</table>\n",
       "<p>12000 rows × 4 columns</p>\n",
       "</div>"
      ],
      "text/plain": [
       "        file_name                             file_path  \\\n",
       "0      flower1150  data/train_set/flower/flower1150.png   \n",
       "1      flower1141  data/train_set/flower/flower1141.png   \n",
       "2       flower215   data/train_set/flower/flower215.png   \n",
       "3        flower71    data/train_set/flower/flower71.png   \n",
       "4       flower901   data/train_set/flower/flower901.png   \n",
       "...           ...                                   ...   \n",
       "11995       tree2         data/train_set/tree/tree2.png   \n",
       "11996    tree1966      data/train_set/tree/tree1966.png   \n",
       "11997     tree600       data/train_set/tree/tree600.png   \n",
       "11998    tree1935      data/train_set/tree/tree1935.png   \n",
       "11999    tree1245      data/train_set/tree/tree1245.png   \n",
       "\n",
       "                  class_name class_index  \n",
       "0      data/train_set/flower           4  \n",
       "1      data/train_set/flower           4  \n",
       "2      data/train_set/flower           4  \n",
       "3      data/train_set/flower           4  \n",
       "4      data/train_set/flower           4  \n",
       "...                      ...         ...  \n",
       "11995    data/train_set/tree           0  \n",
       "11996    data/train_set/tree           0  \n",
       "11997    data/train_set/tree           0  \n",
       "11998    data/train_set/tree           0  \n",
       "11999    data/train_set/tree           0  \n",
       "\n",
       "[12000 rows x 4 columns]"
      ]
     },
     "execution_count": 7,
     "metadata": {},
     "output_type": "execute_result"
    }
   ],
   "source": [
    "data_df"
   ]
  },
  {
   "cell_type": "code",
   "execution_count": 5,
   "metadata": {},
   "outputs": [],
   "source": [
    "def create_classification_csv(file_path: str|Path, name: str):\n",
    "    if not isinstance(file_path, Path):\n",
    "        file_path = Path(file_path)\n",
    "    \n",
    "    data_df = pd.DataFrame(columns=[\"file_name\", \"file_path\", \"class_name\", \"class_index\"])\n",
    "\n",
    "    for idx_i, class_dir in enumerate(file_path.glob(\"*\")):\n",
    "        print(class_dir)\n",
    "        for idx_j, data_file in enumerate(class_dir.glob(\"*\")):\n",
    "            data_df = pd.concat([pd.DataFrame([[data_file.name, data_file, class_dir.stem, idx_i]], columns=data_df.columns), data_df], ignore_index=True)\n",
    "    \n",
    "    data_df.to_csv(name, index=False)"
   ]
  },
  {
   "cell_type": "code",
   "execution_count": 6,
   "metadata": {},
   "outputs": [
    {
     "name": "stdout",
     "output_type": "stream",
     "text": [
      "data/test_set/tree\n",
      "data/test_set/sun\n",
      "data/test_set/fish\n",
      "data/test_set/bird\n",
      "data/test_set/flower\n",
      "data/train_set/tree\n",
      "data/train_set/sun\n",
      "data/train_set/fish\n",
      "data/train_set/bird\n",
      "data/train_set/flower\n"
     ]
    }
   ],
   "source": [
    "create_classification_csv(\"./data/test_set/\", \"./data/test_data.csv\")\n",
    "create_classification_csv(\"./data/train_set/\", \"./data/train_data.csv\")"
   ]
  }
 ],
 "metadata": {
  "kernelspec": {
   "display_name": "Python [conda env:e_DL]",
   "language": "python",
   "name": "conda-env-e_DL-py"
  },
  "language_info": {
   "codemirror_mode": {
    "name": "ipython",
    "version": 3
   },
   "file_extension": ".py",
   "mimetype": "text/x-python",
   "name": "python",
   "nbconvert_exporter": "python",
   "pygments_lexer": "ipython3",
   "version": "3.10.11"
  },
  "orig_nbformat": 4
 },
 "nbformat": 4,
 "nbformat_minor": 2
}
